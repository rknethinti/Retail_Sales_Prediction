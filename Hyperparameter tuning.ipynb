{
 "cells": [
  {
   "cell_type": "code",
   "execution_count": 1,
   "id": "d9bb4302",
   "metadata": {},
   "outputs": [],
   "source": [
    "#Importing important libraries and modules\n",
    "import pandas as pd\n",
    "import numpy as np\n",
    "import matplotlib as mpl\n",
    "import matplotlib.pyplot as plt\n",
    "%matplotlib inline\n",
    "import seaborn as sns\n",
    "plt.rcParams.update({'figure.figsize':(8,5),'figure.dpi':100})\n",
    "from datetime import datetime\n",
    "\n",
    "import warnings    \n",
    "warnings.filterwarnings('ignore')"
   ]
  },
  {
   "cell_type": "code",
   "execution_count": 2,
   "id": "aa1694e6",
   "metadata": {},
   "outputs": [],
   "source": [
    "#metrics import\n",
    "from sklearn.metrics import mean_absolute_error\n",
    "from sklearn.metrics import mean_squared_error\n",
    "from sklearn.metrics import r2_score\n",
    "#importing model \n",
    "from sklearn.ensemble import RandomForestRegressor"
   ]
  },
  {
   "cell_type": "code",
   "execution_count": 4,
   "id": "9bd9399d",
   "metadata": {},
   "outputs": [],
   "source": [
    "df2 = pd.read_csv(\"C:/Users/rknet/OneDrive/Desktop/feature_engineering.csv\",parse_dates=['Date'])\n",
    "comparison_df = pd.read_csv(\"C:/Users/rknet/OneDrive/Desktop/results.csv\")"
   ]
  },
  {
   "cell_type": "code",
   "execution_count": 5,
   "id": "b4a00191",
   "metadata": {},
   "outputs": [],
   "source": [
    "#setting date and store as index\n",
    "df2.set_index(['Date','Store'],inplace=True)\n",
    "#sorting index following the time series\n",
    "df2.sort_index(inplace=True)"
   ]
  },
  {
   "cell_type": "code",
   "execution_count": 6,
   "id": "b3bdbe3d",
   "metadata": {},
   "outputs": [
    {
     "data": {
      "text/html": [
       "<div>\n",
       "<style scoped>\n",
       "    .dataframe tbody tr th:only-of-type {\n",
       "        vertical-align: middle;\n",
       "    }\n",
       "\n",
       "    .dataframe tbody tr th {\n",
       "        vertical-align: top;\n",
       "    }\n",
       "\n",
       "    .dataframe thead th {\n",
       "        text-align: right;\n",
       "    }\n",
       "</style>\n",
       "<table border=\"1\" class=\"dataframe\">\n",
       "  <thead>\n",
       "    <tr style=\"text-align: right;\">\n",
       "      <th></th>\n",
       "      <th>Model_Name</th>\n",
       "      <th>Train_MAE</th>\n",
       "      <th>Train_MSE</th>\n",
       "      <th>Train_RMSE</th>\n",
       "      <th>Train_R2</th>\n",
       "      <th>Train_Adj_R2</th>\n",
       "      <th>Test_MAE</th>\n",
       "      <th>Test_MSE</th>\n",
       "      <th>Test_RMSE</th>\n",
       "      <th>Test_R2</th>\n",
       "      <th>Test_Adj_R2</th>\n",
       "    </tr>\n",
       "  </thead>\n",
       "  <tbody>\n",
       "    <tr>\n",
       "      <th>0</th>\n",
       "      <td>Decision Tree Regressor</td>\n",
       "      <td>0.003857</td>\n",
       "      <td>0.003319</td>\n",
       "      <td>0.057611</td>\n",
       "      <td>0.996681</td>\n",
       "      <td>0.996681</td>\n",
       "      <td>0.361098</td>\n",
       "      <td>0.261586</td>\n",
       "      <td>0.511455</td>\n",
       "      <td>0.724230</td>\n",
       "      <td>0.724056</td>\n",
       "    </tr>\n",
       "    <tr>\n",
       "      <th>1</th>\n",
       "      <td>Random Forest Regressor</td>\n",
       "      <td>0.092721</td>\n",
       "      <td>0.019563</td>\n",
       "      <td>0.139869</td>\n",
       "      <td>0.980437</td>\n",
       "      <td>0.980436</td>\n",
       "      <td>0.274091</td>\n",
       "      <td>0.142424</td>\n",
       "      <td>0.377391</td>\n",
       "      <td>0.849853</td>\n",
       "      <td>0.849759</td>\n",
       "    </tr>\n",
       "  </tbody>\n",
       "</table>\n",
       "</div>"
      ],
      "text/plain": [
       "                Model_Name  Train_MAE  Train_MSE  Train_RMSE  Train_R2  \\\n",
       "0  Decision Tree Regressor   0.003857   0.003319    0.057611  0.996681   \n",
       "1  Random Forest Regressor   0.092721   0.019563    0.139869  0.980437   \n",
       "\n",
       "   Train_Adj_R2  Test_MAE  Test_MSE  Test_RMSE   Test_R2  Test_Adj_R2  \n",
       "0      0.996681  0.361098  0.261586   0.511455  0.724230     0.724056  \n",
       "1      0.980436  0.274091  0.142424   0.377391  0.849853     0.849759  "
      ]
     },
     "execution_count": 6,
     "metadata": {},
     "output_type": "execute_result"
    }
   ],
   "source": [
    "comparison_df.drop('Unnamed: 0',axis=1,inplace=True)\n",
    "comparison_df"
   ]
  },
  {
   "cell_type": "code",
   "execution_count": 7,
   "id": "73aae93c",
   "metadata": {},
   "outputs": [
    {
     "data": {
      "text/html": [
       "<div>\n",
       "<style scoped>\n",
       "    .dataframe tbody tr th:only-of-type {\n",
       "        vertical-align: middle;\n",
       "    }\n",
       "\n",
       "    .dataframe tbody tr th {\n",
       "        vertical-align: top;\n",
       "    }\n",
       "\n",
       "    .dataframe thead th {\n",
       "        text-align: right;\n",
       "    }\n",
       "</style>\n",
       "<table border=\"1\" class=\"dataframe\">\n",
       "  <thead>\n",
       "    <tr style=\"text-align: right;\">\n",
       "      <th></th>\n",
       "      <th></th>\n",
       "      <th>StoreType</th>\n",
       "      <th>Assortment</th>\n",
       "      <th>CompetitionDistance</th>\n",
       "      <th>CompetitionOpenSinceMonth</th>\n",
       "      <th>CompetitionOpenSinceYear</th>\n",
       "      <th>Promo2</th>\n",
       "      <th>Promo2SinceWeek</th>\n",
       "      <th>Promo2SinceYear</th>\n",
       "      <th>PromoInterval</th>\n",
       "      <th>DayOfWeek</th>\n",
       "      <th>...</th>\n",
       "      <th>PromoInterval_Mar_Jun_Sept_Dec</th>\n",
       "      <th>StateHoliday_0</th>\n",
       "      <th>StateHoliday_a</th>\n",
       "      <th>StateHoliday_b</th>\n",
       "      <th>StateHoliday_c</th>\n",
       "      <th>date_year</th>\n",
       "      <th>date_weekofyear</th>\n",
       "      <th>date_month</th>\n",
       "      <th>date_dayofweek</th>\n",
       "      <th>date_day</th>\n",
       "    </tr>\n",
       "    <tr>\n",
       "      <th>Date</th>\n",
       "      <th>Store</th>\n",
       "      <th></th>\n",
       "      <th></th>\n",
       "      <th></th>\n",
       "      <th></th>\n",
       "      <th></th>\n",
       "      <th></th>\n",
       "      <th></th>\n",
       "      <th></th>\n",
       "      <th></th>\n",
       "      <th></th>\n",
       "      <th></th>\n",
       "      <th></th>\n",
       "      <th></th>\n",
       "      <th></th>\n",
       "      <th></th>\n",
       "      <th></th>\n",
       "      <th></th>\n",
       "      <th></th>\n",
       "      <th></th>\n",
       "      <th></th>\n",
       "      <th></th>\n",
       "    </tr>\n",
       "  </thead>\n",
       "  <tbody>\n",
       "    <tr>\n",
       "      <th>2013-01-01</th>\n",
       "      <th>1</th>\n",
       "      <td>2</td>\n",
       "      <td>0</td>\n",
       "      <td>1270.0</td>\n",
       "      <td>9.0</td>\n",
       "      <td>2008.0</td>\n",
       "      <td>0</td>\n",
       "      <td>0.0</td>\n",
       "      <td>0.0</td>\n",
       "      <td>0</td>\n",
       "      <td>1</td>\n",
       "      <td>...</td>\n",
       "      <td>0</td>\n",
       "      <td>0</td>\n",
       "      <td>1</td>\n",
       "      <td>0</td>\n",
       "      <td>0</td>\n",
       "      <td>2013</td>\n",
       "      <td>1</td>\n",
       "      <td>1</td>\n",
       "      <td>1</td>\n",
       "      <td>1</td>\n",
       "    </tr>\n",
       "  </tbody>\n",
       "</table>\n",
       "<p>1 rows × 39 columns</p>\n",
       "</div>"
      ],
      "text/plain": [
       "                  StoreType  Assortment  CompetitionDistance  \\\n",
       "Date       Store                                               \n",
       "2013-01-01 1              2           0               1270.0   \n",
       "\n",
       "                  CompetitionOpenSinceMonth  CompetitionOpenSinceYear  Promo2  \\\n",
       "Date       Store                                                                \n",
       "2013-01-01 1                            9.0                    2008.0       0   \n",
       "\n",
       "                  Promo2SinceWeek  Promo2SinceYear  PromoInterval  DayOfWeek  \\\n",
       "Date       Store                                                               \n",
       "2013-01-01 1                  0.0              0.0              0          1   \n",
       "\n",
       "                  ...  PromoInterval_Mar_Jun_Sept_Dec  StateHoliday_0  \\\n",
       "Date       Store  ...                                                   \n",
       "2013-01-01 1      ...                               0               0   \n",
       "\n",
       "                  StateHoliday_a  StateHoliday_b  StateHoliday_c  date_year  \\\n",
       "Date       Store                                                              \n",
       "2013-01-01 1                   1               0               0       2013   \n",
       "\n",
       "                  date_weekofyear  date_month  date_dayofweek  date_day  \n",
       "Date       Store                                                         \n",
       "2013-01-01 1                    1           1               1         1  \n",
       "\n",
       "[1 rows x 39 columns]"
      ]
     },
     "execution_count": 7,
     "metadata": {},
     "output_type": "execute_result"
    }
   ],
   "source": [
    "df2.head(1)"
   ]
  },
  {
   "cell_type": "code",
   "execution_count": 8,
   "id": "169ca1b4",
   "metadata": {},
   "outputs": [],
   "source": [
    "#slicing the most recent six weeks and creating train and test set\n",
    "#train\n",
    "start_train = pd.to_datetime(\"2013-01-01\")\n",
    "end_train = pd.to_datetime(\"2015-06-14\")\n",
    "df_train = df2.loc[start_train:end_train]\n",
    "#test\n",
    "start_test = pd.to_datetime(\"2015-06-15\")\n",
    "end_test = pd.to_datetime(\"2015-07-31\")\n",
    "df_test = df2.loc[start_test:end_test]"
   ]
  },
  {
   "cell_type": "code",
   "execution_count": 9,
   "id": "31289d52",
   "metadata": {},
   "outputs": [
    {
     "name": "stdout",
     "output_type": "stream",
     "text": [
      "The shape of X_train is: (964804, 38)\n",
      "The shape of y_train is: (964804, 1)\n",
      "The shape of X_test is: (52405, 38)\n",
      "The shape of y_test is: (52405, 1)\n"
     ]
    }
   ],
   "source": [
    "#X and y split for train and test\n",
    "X_train = df_train.drop('Sales',axis=1)\n",
    "y_train = df_train[['Sales']]\n",
    "X_test = df_test.drop('Sales',axis=1)\n",
    "y_test = df_test[['Sales']]\n",
    "print(f'The shape of X_train is: {X_train.shape}')\n",
    "print(f'The shape of y_train is: {y_train.shape}')\n",
    "print(f'The shape of X_test is: {X_test.shape}')\n",
    "print(f'The shape of y_test is: {y_test.shape}')"
   ]
  },
  {
   "cell_type": "code",
   "execution_count": 10,
   "id": "5e52248d",
   "metadata": {},
   "outputs": [],
   "source": [
    "# Create model\n",
    "rf_tuned = RandomForestRegressor()"
   ]
  },
  {
   "cell_type": "code",
   "execution_count": 11,
   "id": "b6a87725",
   "metadata": {},
   "outputs": [
    {
     "name": "stdout",
     "output_type": "stream",
     "text": [
      "Fitting 3 folds for each of 10 candidates, totalling 30 fits\n",
      "[CV] END bootstrap=True, max_depth=None, max_features=auto, min_samples_leaf=4, min_samples_split=8, n_estimators=100; total time= 5.9min\n",
      "[CV] END bootstrap=True, max_depth=None, max_features=auto, min_samples_leaf=4, min_samples_split=8, n_estimators=100; total time= 6.1min\n",
      "[CV] END bootstrap=True, max_depth=None, max_features=auto, min_samples_leaf=4, min_samples_split=8, n_estimators=100; total time= 6.0min\n",
      "[CV] END bootstrap=True, max_depth=None, max_features=auto, min_samples_leaf=1, min_samples_split=2, n_estimators=100; total time= 7.0min\n",
      "[CV] END bootstrap=True, max_depth=None, max_features=auto, min_samples_leaf=1, min_samples_split=2, n_estimators=100; total time=15.3min\n",
      "[CV] END bootstrap=True, max_depth=None, max_features=auto, min_samples_leaf=1, min_samples_split=2, n_estimators=100; total time= 7.3min\n",
      "[CV] END bootstrap=True, max_depth=None, max_features=sqrt, min_samples_leaf=1, min_samples_split=2, n_estimators=150; total time= 2.7min\n",
      "[CV] END bootstrap=True, max_depth=None, max_features=sqrt, min_samples_leaf=1, min_samples_split=2, n_estimators=150; total time= 2.6min\n",
      "[CV] END bootstrap=True, max_depth=None, max_features=sqrt, min_samples_leaf=1, min_samples_split=2, n_estimators=150; total time= 2.6min\n",
      "[CV] END bootstrap=True, max_depth=90, max_features=auto, min_samples_leaf=2, min_samples_split=2, n_estimators=100; total time= 6.3min\n",
      "[CV] END bootstrap=True, max_depth=90, max_features=auto, min_samples_leaf=2, min_samples_split=2, n_estimators=100; total time= 6.3min\n",
      "[CV] END bootstrap=True, max_depth=90, max_features=auto, min_samples_leaf=2, min_samples_split=2, n_estimators=100; total time= 6.3min\n",
      "[CV] END bootstrap=False, max_depth=90, max_features=auto, min_samples_leaf=4, min_samples_split=2, n_estimators=100; total time=23.7min\n",
      "[CV] END bootstrap=False, max_depth=90, max_features=auto, min_samples_leaf=4, min_samples_split=2, n_estimators=100; total time= 8.7min\n",
      "[CV] END bootstrap=False, max_depth=90, max_features=auto, min_samples_leaf=4, min_samples_split=2, n_estimators=100; total time=20.4min\n",
      "[CV] END bootstrap=True, max_depth=None, max_features=auto, min_samples_leaf=4, min_samples_split=2, n_estimators=100; total time= 5.8min\n",
      "[CV] END bootstrap=True, max_depth=None, max_features=auto, min_samples_leaf=4, min_samples_split=2, n_estimators=100; total time= 6.1min\n",
      "[CV] END bootstrap=True, max_depth=None, max_features=auto, min_samples_leaf=4, min_samples_split=2, n_estimators=100; total time= 6.2min\n",
      "[CV] END bootstrap=False, max_depth=100, max_features=auto, min_samples_leaf=1, min_samples_split=5, n_estimators=100; total time= 9.8min\n",
      "[CV] END bootstrap=False, max_depth=100, max_features=auto, min_samples_leaf=1, min_samples_split=5, n_estimators=100; total time= 9.9min\n",
      "[CV] END bootstrap=False, max_depth=100, max_features=auto, min_samples_leaf=1, min_samples_split=5, n_estimators=100; total time= 9.4min\n",
      "[CV] END bootstrap=False, max_depth=90, max_features=sqrt, min_samples_leaf=1, min_samples_split=8, n_estimators=130; total time= 2.3min\n",
      "[CV] END bootstrap=False, max_depth=90, max_features=sqrt, min_samples_leaf=1, min_samples_split=8, n_estimators=130; total time= 2.3min\n",
      "[CV] END bootstrap=False, max_depth=90, max_features=sqrt, min_samples_leaf=1, min_samples_split=8, n_estimators=130; total time= 2.3min\n",
      "[CV] END bootstrap=False, max_depth=100, max_features=sqrt, min_samples_leaf=4, min_samples_split=5, n_estimators=150; total time= 2.4min\n",
      "[CV] END bootstrap=False, max_depth=100, max_features=sqrt, min_samples_leaf=4, min_samples_split=5, n_estimators=150; total time= 2.5min\n",
      "[CV] END bootstrap=False, max_depth=100, max_features=sqrt, min_samples_leaf=4, min_samples_split=5, n_estimators=150; total time= 2.5min\n",
      "[CV] END bootstrap=True, max_depth=None, max_features=sqrt, min_samples_leaf=2, min_samples_split=2, n_estimators=100; total time= 1.3min\n",
      "[CV] END bootstrap=True, max_depth=None, max_features=sqrt, min_samples_leaf=2, min_samples_split=2, n_estimators=100; total time= 1.3min\n",
      "[CV] END bootstrap=True, max_depth=None, max_features=sqrt, min_samples_leaf=2, min_samples_split=2, n_estimators=100; total time= 1.3min\n"
     ]
    },
    {
     "data": {
      "text/plain": [
       "RandomizedSearchCV(cv=3, estimator=RandomForestRegressor(),\n",
       "                   param_distributions={'bootstrap': [True, False],\n",
       "                                        'max_depth': [90, 100, None],\n",
       "                                        'max_features': ['auto', 'sqrt'],\n",
       "                                        'min_samples_leaf': [1, 2, 4],\n",
       "                                        'min_samples_split': [2, 5, 8],\n",
       "                                        'n_estimators': [100, 130, 150]},\n",
       "                   random_state=42, verbose=2)"
      ]
     },
     "execution_count": 11,
     "metadata": {},
     "output_type": "execute_result"
    }
   ],
   "source": [
    "#import\n",
    "from sklearn.model_selection import RandomizedSearchCV\n",
    "#grid\n",
    "random_grid = {'bootstrap': [True, False],\n",
    " 'max_depth': [ 90, 100, None],\n",
    " 'max_features': ['auto', 'sqrt'],\n",
    " 'min_samples_leaf': [1, 2, 4],\n",
    " 'min_samples_split': [2, 5, 8],\n",
    " 'n_estimators': [100, 130, 150]}\n",
    "\n",
    "rf_random = RandomizedSearchCV(estimator = rf_tuned, param_distributions = random_grid, n_iter = 10, cv = 3, verbose=2, random_state=42)\n",
    "\n",
    "#fitting\n",
    "rf_random.fit(X_train,y_train)"
   ]
  },
  {
   "cell_type": "code",
   "execution_count": 12,
   "id": "9dca6b4a",
   "metadata": {},
   "outputs": [
    {
     "data": {
      "text/plain": [
       "{'n_estimators': 100,\n",
       " 'min_samples_split': 2,\n",
       " 'min_samples_leaf': 1,\n",
       " 'max_features': 'auto',\n",
       " 'max_depth': None,\n",
       " 'bootstrap': True}"
      ]
     },
     "execution_count": 12,
     "metadata": {},
     "output_type": "execute_result"
    }
   ],
   "source": [
    "#best para\n",
    "rf_random.best_params_"
   ]
  },
  {
   "cell_type": "code",
   "execution_count": 13,
   "id": "d3c4c696",
   "metadata": {},
   "outputs": [],
   "source": [
    "#save the best parameters\n",
    "random_t = rf_random.best_estimator_"
   ]
  },
  {
   "cell_type": "code",
   "execution_count": 14,
   "id": "6233b91d",
   "metadata": {},
   "outputs": [],
   "source": [
    "comparison_columns = ['Model_Name', 'Train_MAE', 'Train_MSE', 'Train_RMSE', 'Train_R2', 'Train_Adj_R2' ,'Test_MAE', 'Test_MSE', 'Test_RMSE', 'Test_R2', 'Test_Adj_R2']\n"
   ]
  },
  {
   "cell_type": "code",
   "execution_count": 15,
   "id": "e3a922b7",
   "metadata": {},
   "outputs": [],
   "source": [
    "#function to evaluate the model\n",
    "def model_evaluation(model_name,model_variable,X_train,y_train,X_test,y_test):\n",
    "  ''' This function predicts and evaluates various models for regression algorithms, visualizes results \n",
    "      and creates a dataframe that compares the various models.'''\n",
    "      \n",
    "  #making predictions\n",
    "  y_pred_train = model_variable.predict(X_train)\n",
    "  y_pred_test = model_variable.predict(X_test)\n",
    "\n",
    "  # Plot the test results\n",
    "  a = y_test.copy()\n",
    "  a['Pred Sales'] = y_pred_test.tolist()\n",
    "  df_plot = a.reset_index(level=['Date'])\n",
    "  plot = df_plot.groupby('Date')['Sales','Pred Sales'].sum()\n",
    "  sns.lineplot(data = plot)\n",
    "  plt.ylabel(\"Total Sales and Predicted Sales\")\n",
    "  plt.xticks(rotation = 25)\n",
    "\n",
    "  #calculate metrics and print the results for test set\n",
    "  #Mean Absolute Error or MAE\n",
    "  MAE_train = round(mean_absolute_error(y_train,y_pred_train),6)\n",
    "  MAE_test = round(mean_absolute_error(y_test,y_pred_test),6)\n",
    "  #Mean Squared Error or MSE\n",
    "  MSE_train = round(mean_squared_error(y_train,y_pred_train),6)\n",
    "  MSE_test = round(mean_squared_error(y_test,y_pred_test),6)\n",
    "  #Root Mean Squared Error or RMSE\n",
    "  RMSE_train = round(mean_squared_error(y_train,y_pred_train,squared=False),6)\n",
    "  RMSE_test = round(mean_squared_error(y_test,y_pred_test,squared=False),6)\n",
    "  #R2\n",
    "  R2_train = round(r2_score(y_train, y_pred_train),6)\n",
    "  R2_test = round(r2_score(y_test, y_pred_test),6)\n",
    "  #Adjusted R2\n",
    "  Adj_r2_train = round(1 - (1-r2_score(y_train, y_pred_train)) * (len(y_train)-1)/(len(y_train)-X_train.shape[1]-1),6)\n",
    "  Adj_r2_test = round(1 - (1-r2_score(y_test, y_pred_test)) * (len(y_test)-1)/(len(y_test)-X_test.shape[1]-1),6)\n",
    "\n",
    "  #printing test results\n",
    "  print(f'The Mean Absolute Error for the validation set is {MAE_test}')\n",
    "  print(f'The Mean Squared Error for the validation set is {MSE_test}')\n",
    "  print(f'The Root Mean Squared Error for the validation set is {RMSE_test}')\n",
    "  print(f'The R^2 for the validation set is {R2_test}')\n",
    "  print(f'The Adjusted R^2 for the validation set is {Adj_r2_test}')\n",
    "\n",
    "  #Saving our results\n",
    "  global comparison_columns\n",
    "  metric_scores = [model_name,MAE_train,MSE_train,RMSE_train,R2_train,Adj_r2_train,MAE_test,MSE_test,RMSE_test,R2_test,Adj_r2_test]\n",
    "  final_dict = dict(zip(comparison_columns,metric_scores))\n",
    "  return [final_dict]"
   ]
  },
  {
   "cell_type": "code",
   "execution_count": 16,
   "id": "848b96fe",
   "metadata": {},
   "outputs": [
    {
     "name": "stdout",
     "output_type": "stream",
     "text": [
      "The Mean Absolute Error for the validation set is 343.523535\n",
      "The Mean Squared Error for the validation set is 300954.336773\n",
      "The Root Mean Squared Error for the validation set is 548.593052\n",
      "The R^2 for the validation set is 0.978402\n",
      "The Adjusted R^2 for the validation set is 0.978386\n"
     ]
    },
    {
     "data": {
      "image/png": "[encoded data removed]",
      "text/plain": [
       "<Figure size 800x500 with 1 Axes>"
      ]
     },
     "metadata": {
      "needs_background": "light"
     },
     "output_type": "display_data"
    }
   ],
   "source": [
    "#evaluate tuned model\n",
    "random_tuned = model_evaluation('Random Forest Tuned',random_t,X_train,y_train,X_test,y_test)"
   ]
  },
  {
   "cell_type": "code",
   "execution_count": 17,
   "id": "cdbd5e4a",
   "metadata": {},
   "outputs": [],
   "source": [
    "#add to comparison_df\n",
    "comparison_df = comparison_df.append(random_tuned)"
   ]
  },
  {
   "cell_type": "code",
   "execution_count": 18,
   "id": "9b27a513",
   "metadata": {},
   "outputs": [
    {
     "data": {
      "text/html": [
       "<div>\n",
       "<style scoped>\n",
       "    .dataframe tbody tr th:only-of-type {\n",
       "        vertical-align: middle;\n",
       "    }\n",
       "\n",
       "    .dataframe tbody tr th {\n",
       "        vertical-align: top;\n",
       "    }\n",
       "\n",
       "    .dataframe thead th {\n",
       "        text-align: right;\n",
       "    }\n",
       "</style>\n",
       "<table border=\"1\" class=\"dataframe\">\n",
       "  <thead>\n",
       "    <tr style=\"text-align: right;\">\n",
       "      <th></th>\n",
       "      <th>Model_Name</th>\n",
       "      <th>Train_MAE</th>\n",
       "      <th>Train_MSE</th>\n",
       "      <th>Train_RMSE</th>\n",
       "      <th>Train_R2</th>\n",
       "      <th>Train_Adj_R2</th>\n",
       "      <th>Test_MAE</th>\n",
       "      <th>Test_MSE</th>\n",
       "      <th>Test_RMSE</th>\n",
       "      <th>Test_R2</th>\n",
       "      <th>Test_Adj_R2</th>\n",
       "    </tr>\n",
       "  </thead>\n",
       "  <tbody>\n",
       "    <tr>\n",
       "      <th>0</th>\n",
       "      <td>Decision Tree Regressor</td>\n",
       "      <td>0.003857</td>\n",
       "      <td>0.003319</td>\n",
       "      <td>0.057611</td>\n",
       "      <td>0.996681</td>\n",
       "      <td>0.996681</td>\n",
       "      <td>0.361098</td>\n",
       "      <td>0.261586</td>\n",
       "      <td>0.511455</td>\n",
       "      <td>0.724230</td>\n",
       "      <td>0.724056</td>\n",
       "    </tr>\n",
       "    <tr>\n",
       "      <th>1</th>\n",
       "      <td>Random Forest Regressor</td>\n",
       "      <td>0.092721</td>\n",
       "      <td>0.019563</td>\n",
       "      <td>0.139869</td>\n",
       "      <td>0.980437</td>\n",
       "      <td>0.980436</td>\n",
       "      <td>0.274091</td>\n",
       "      <td>0.142424</td>\n",
       "      <td>0.377391</td>\n",
       "      <td>0.849853</td>\n",
       "      <td>0.849759</td>\n",
       "    </tr>\n",
       "    <tr>\n",
       "      <th>0</th>\n",
       "      <td>Random Forest Tuned</td>\n",
       "      <td>97.877517</td>\n",
       "      <td>26760.047740</td>\n",
       "      <td>163.584986</td>\n",
       "      <td>0.998199</td>\n",
       "      <td>0.998199</td>\n",
       "      <td>343.523535</td>\n",
       "      <td>300954.336773</td>\n",
       "      <td>548.593052</td>\n",
       "      <td>0.978402</td>\n",
       "      <td>0.978386</td>\n",
       "    </tr>\n",
       "  </tbody>\n",
       "</table>\n",
       "</div>"
      ],
      "text/plain": [
       "                Model_Name  Train_MAE     Train_MSE  Train_RMSE  Train_R2  \\\n",
       "0  Decision Tree Regressor   0.003857      0.003319    0.057611  0.996681   \n",
       "1  Random Forest Regressor   0.092721      0.019563    0.139869  0.980437   \n",
       "0      Random Forest Tuned  97.877517  26760.047740  163.584986  0.998199   \n",
       "\n",
       "   Train_Adj_R2    Test_MAE       Test_MSE   Test_RMSE   Test_R2  Test_Adj_R2  \n",
       "0      0.996681    0.361098       0.261586    0.511455  0.724230     0.724056  \n",
       "1      0.980436    0.274091       0.142424    0.377391  0.849853     0.849759  \n",
       "0      0.998199  343.523535  300954.336773  548.593052  0.978402     0.978386  "
      ]
     },
     "execution_count": 18,
     "metadata": {},
     "output_type": "execute_result"
    }
   ],
   "source": [
    "#comparison_df\n",
    "comparison_df"
   ]
  },
  {
   "cell_type": "code",
   "execution_count": 19,
   "id": "5e498d05",
   "metadata": {},
   "outputs": [
    {
     "data": {
      "text/plain": [
       "<AxesSubplot:xlabel='Importance', ylabel='Variable'>"
      ]
     },
     "execution_count": 19,
     "metadata": {},
     "output_type": "execute_result"
    },
    {
     "data": {
      "image/png": "[encoded data removed]",
      "text/plain": [
       "<Figure size 800x500 with 1 Axes>"
      ]
     },
     "metadata": {
      "needs_background": "light"
     },
     "output_type": "display_data"
    }
   ],
   "source": [
    "#visualising feature importance of XGB\n",
    "feature_imp = pd.DataFrame({\"Variable\": X_test.columns,\"Importance\": random_t.feature_importances_})\n",
    "feature_imp.sort_values(by=\"Importance\", ascending=False, inplace = True)\n",
    "sns.barplot(x=feature_imp['Importance'], y= feature_imp['Variable'])"
   ]
  },
  {
   "cell_type": "markdown",
   "id": "bc064d1d",
   "metadata": {},
   "source": [
    "# Model Performance and Evaluation"
   ]
  },
  {
   "cell_type": "code",
   "execution_count": 20,
   "id": "0e92af2f",
   "metadata": {},
   "outputs": [
    {
     "data": {
      "text/html": [
       "<div>\n",
       "<style scoped>\n",
       "    .dataframe tbody tr th:only-of-type {\n",
       "        vertical-align: middle;\n",
       "    }\n",
       "\n",
       "    .dataframe tbody tr th {\n",
       "        vertical-align: top;\n",
       "    }\n",
       "\n",
       "    .dataframe thead th {\n",
       "        text-align: right;\n",
       "    }\n",
       "</style>\n",
       "<table border=\"1\" class=\"dataframe\">\n",
       "  <thead>\n",
       "    <tr style=\"text-align: right;\">\n",
       "      <th></th>\n",
       "      <th>Model_Name</th>\n",
       "      <th>Train_MAE</th>\n",
       "      <th>Train_MSE</th>\n",
       "      <th>Train_RMSE</th>\n",
       "      <th>Train_R2</th>\n",
       "      <th>Train_Adj_R2</th>\n",
       "      <th>Test_MAE</th>\n",
       "      <th>Test_MSE</th>\n",
       "      <th>Test_RMSE</th>\n",
       "      <th>Test_R2</th>\n",
       "      <th>Test_Adj_R2</th>\n",
       "    </tr>\n",
       "  </thead>\n",
       "  <tbody>\n",
       "    <tr>\n",
       "      <th>0</th>\n",
       "      <td>Decision Tree Regressor</td>\n",
       "      <td>0.003857</td>\n",
       "      <td>0.003319</td>\n",
       "      <td>0.057611</td>\n",
       "      <td>0.996681</td>\n",
       "      <td>0.996681</td>\n",
       "      <td>0.361098</td>\n",
       "      <td>0.261586</td>\n",
       "      <td>0.511455</td>\n",
       "      <td>0.724230</td>\n",
       "      <td>0.724056</td>\n",
       "    </tr>\n",
       "    <tr>\n",
       "      <th>1</th>\n",
       "      <td>Random Forest Regressor</td>\n",
       "      <td>0.092721</td>\n",
       "      <td>0.019563</td>\n",
       "      <td>0.139869</td>\n",
       "      <td>0.980437</td>\n",
       "      <td>0.980436</td>\n",
       "      <td>0.274091</td>\n",
       "      <td>0.142424</td>\n",
       "      <td>0.377391</td>\n",
       "      <td>0.849853</td>\n",
       "      <td>0.849759</td>\n",
       "    </tr>\n",
       "    <tr>\n",
       "      <th>0</th>\n",
       "      <td>Random Forest Tuned</td>\n",
       "      <td>97.877517</td>\n",
       "      <td>26760.047740</td>\n",
       "      <td>163.584986</td>\n",
       "      <td>0.998199</td>\n",
       "      <td>0.998199</td>\n",
       "      <td>343.523535</td>\n",
       "      <td>300954.336773</td>\n",
       "      <td>548.593052</td>\n",
       "      <td>0.978402</td>\n",
       "      <td>0.978386</td>\n",
       "    </tr>\n",
       "  </tbody>\n",
       "</table>\n",
       "</div>"
      ],
      "text/plain": [
       "                Model_Name  Train_MAE     Train_MSE  Train_RMSE  Train_R2  \\\n",
       "0  Decision Tree Regressor   0.003857      0.003319    0.057611  0.996681   \n",
       "1  Random Forest Regressor   0.092721      0.019563    0.139869  0.980437   \n",
       "0      Random Forest Tuned  97.877517  26760.047740  163.584986  0.998199   \n",
       "\n",
       "   Train_Adj_R2    Test_MAE       Test_MSE   Test_RMSE   Test_R2  Test_Adj_R2  \n",
       "0      0.996681    0.361098       0.261586    0.511455  0.724230     0.724056  \n",
       "1      0.980436    0.274091       0.142424    0.377391  0.849853     0.849759  \n",
       "0      0.998199  343.523535  300954.336773  548.593052  0.978402     0.978386  "
      ]
     },
     "execution_count": 20,
     "metadata": {},
     "output_type": "execute_result"
    }
   ],
   "source": [
    "#Taking a look of our final comparison dataframe\n",
    "comparison_df"
   ]
  },
  {
   "cell_type": "code",
   "execution_count": 21,
   "id": "b93468f8",
   "metadata": {},
   "outputs": [
    {
     "data": {
      "text/plain": [
       "<AxesSubplot:xlabel='Test_R2', ylabel='Model_Name'>"
      ]
     },
     "execution_count": 21,
     "metadata": {},
     "output_type": "execute_result"
    },
    {
     "data": {
      "image/png": "[encoded data removed]",
      "text/plain": [
       "<Figure size 800x500 with 1 Axes>"
      ]
     },
     "metadata": {
      "needs_background": "light"
     },
     "output_type": "display_data"
    }
   ],
   "source": [
    "#visualising our comparison df for Test R2\n",
    "sns.barplot(y=comparison_df['Model_Name'], x = comparison_df['Test_R2'])"
   ]
  },
  {
   "cell_type": "code",
   "execution_count": 22,
   "id": "2040a751",
   "metadata": {},
   "outputs": [],
   "source": [
    "#test values\n",
    "baseline_r2 = 0.915750\n",
    "random_r2 = 0.955673\n",
    "r_tuned_r2 = 0.955878"
   ]
  },
  {
   "cell_type": "code",
   "execution_count": 23,
   "id": "4861b8cc",
   "metadata": {},
   "outputs": [
    {
     "name": "stdout",
     "output_type": "stream",
     "text": [
      "Model Performance\n",
      "Improvement of 4.36 % was seen in Random Forest against Decision Tree.\n"
     ]
    }
   ],
   "source": [
    "#improvement % \n",
    "improvement_r = ((random_r2 - baseline_r2)/baseline_r2)*100\n",
    "print('Model Performance')\n",
    "print(f'Improvement of {round(improvement_r,3)} % was seen in Random Forest against Decision Tree.')"
   ]
  },
  {
   "cell_type": "markdown",
   "id": "61413e32",
   "metadata": {},
   "source": [
    "## Random Forest Tuned vs Baseline and Random Forest Models"
   ]
  },
  {
   "cell_type": "code",
   "execution_count": 24,
   "id": "5cee4fb1",
   "metadata": {},
   "outputs": [
    {
     "name": "stdout",
     "output_type": "stream",
     "text": [
      "Model Performance\n",
      "Improvement of 4.382 % was seen in Random Forest Tuned against Decision Tree.\n"
     ]
    }
   ],
   "source": [
    "#improvement % of tuned vs baseline\n",
    "\n",
    "improvement_r = ((r_tuned_r2 - baseline_r2)/baseline_r2)*100\n",
    "print('Model Performance')\n",
    "print(f'Improvement of {round(improvement_r,3)} % was seen in Random Forest Tuned against Decision Tree.')"
   ]
  },
  {
   "cell_type": "code",
   "execution_count": 25,
   "id": "e0a37e0c",
   "metadata": {},
   "outputs": [
    {
     "name": "stdout",
     "output_type": "stream",
     "text": [
      "Model Performance\n",
      "Improvement of 0.021 % was seen in Random Forest Tuned against Simple Random Forest.\n"
     ]
    }
   ],
   "source": [
    "#improvement % of tuned vs simple random forest\n",
    "improvement_r = ((r_tuned_r2 - random_r2)/random_r2)*100\n",
    "print('Model Performance')\n",
    "print(f'Improvement of {round(improvement_r,3)} % was seen in Random Forest Tuned against Simple Random Forest.')"
   ]
  },
  {
   "cell_type": "markdown",
   "id": "a09d3dca",
   "metadata": {},
   "source": [
    "Observation\n",
    "\n",
    "The maximum R^2 was seen in tuned Random Forest model with the value 0.955878 which was only 0.021% improved from a simple random forest model.\n",
    "It seems like we have maxed out on performance with the data and these models."
   ]
  },
  {
   "cell_type": "markdown",
   "id": "e0912cae",
   "metadata": {},
   "source": [
    "## Store wise Sales Predictions\n"
   ]
  },
  {
   "cell_type": "code",
   "execution_count": 33,
   "id": "9e3ff6e2",
   "metadata": {},
   "outputs": [],
   "source": [
    "#predictions \n",
    "y_pred_test = random_t.predict(X_test)\n",
    "six_weeks_sales_df = y_test.copy()\n",
    "six_weeks_sales_df['Pred_Sales'] = y_pred_test.tolist()"
   ]
  },
  {
   "cell_type": "code",
   "execution_count": 34,
   "id": "42d657bf",
   "metadata": {},
   "outputs": [
    {
     "data": {
      "text/html": [
       "<div>\n",
       "<style scoped>\n",
       "    .dataframe tbody tr th:only-of-type {\n",
       "        vertical-align: middle;\n",
       "    }\n",
       "\n",
       "    .dataframe tbody tr th {\n",
       "        vertical-align: top;\n",
       "    }\n",
       "\n",
       "    .dataframe thead th {\n",
       "        text-align: right;\n",
       "    }\n",
       "</style>\n",
       "<table border=\"1\" class=\"dataframe\">\n",
       "  <thead>\n",
       "    <tr style=\"text-align: right;\">\n",
       "      <th></th>\n",
       "      <th></th>\n",
       "      <th>Sales</th>\n",
       "      <th>Pred_Sales</th>\n",
       "    </tr>\n",
       "    <tr>\n",
       "      <th>Date</th>\n",
       "      <th>Store</th>\n",
       "      <th></th>\n",
       "      <th></th>\n",
       "    </tr>\n",
       "  </thead>\n",
       "  <tbody>\n",
       "    <tr>\n",
       "      <th rowspan=\"5\" valign=\"top\">2015-06-15</th>\n",
       "      <th>1</th>\n",
       "      <td>5518</td>\n",
       "      <td>5414.10</td>\n",
       "    </tr>\n",
       "    <tr>\n",
       "      <th>2</th>\n",
       "      <td>8106</td>\n",
       "      <td>7561.87</td>\n",
       "    </tr>\n",
       "    <tr>\n",
       "      <th>3</th>\n",
       "      <td>10818</td>\n",
       "      <td>10239.24</td>\n",
       "    </tr>\n",
       "    <tr>\n",
       "      <th>4</th>\n",
       "      <td>12398</td>\n",
       "      <td>11398.61</td>\n",
       "    </tr>\n",
       "    <tr>\n",
       "      <th>5</th>\n",
       "      <td>7808</td>\n",
       "      <td>7673.90</td>\n",
       "    </tr>\n",
       "  </tbody>\n",
       "</table>\n",
       "</div>"
      ],
      "text/plain": [
       "                  Sales  Pred_Sales\n",
       "Date       Store                   \n",
       "2015-06-15 1       5518     5414.10\n",
       "           2       8106     7561.87\n",
       "           3      10818    10239.24\n",
       "           4      12398    11398.61\n",
       "           5       7808     7673.90"
      ]
     },
     "execution_count": 34,
     "metadata": {},
     "output_type": "execute_result"
    }
   ],
   "source": [
    "#head\n",
    "six_weeks_sales_df.head()"
   ]
  },
  {
   "cell_type": "code",
   "execution_count": 37,
   "id": "1ba3a607",
   "metadata": {},
   "outputs": [
    {
     "data": {
      "text/html": [
       "<div>\n",
       "<style scoped>\n",
       "    .dataframe tbody tr th:only-of-type {\n",
       "        vertical-align: middle;\n",
       "    }\n",
       "\n",
       "    .dataframe tbody tr th {\n",
       "        vertical-align: top;\n",
       "    }\n",
       "\n",
       "    .dataframe thead th {\n",
       "        text-align: right;\n",
       "    }\n",
       "</style>\n",
       "<table border=\"1\" class=\"dataframe\">\n",
       "  <thead>\n",
       "    <tr style=\"text-align: right;\">\n",
       "      <th></th>\n",
       "      <th></th>\n",
       "      <th>Sales</th>\n",
       "      <th>Pred_Sales</th>\n",
       "    </tr>\n",
       "    <tr>\n",
       "      <th>Date</th>\n",
       "      <th>Store</th>\n",
       "      <th></th>\n",
       "      <th></th>\n",
       "    </tr>\n",
       "  </thead>\n",
       "  <tbody>\n",
       "    <tr>\n",
       "      <th rowspan=\"5\" valign=\"top\">2015-06-15</th>\n",
       "      <th>1</th>\n",
       "      <td>5518</td>\n",
       "      <td>5414.10</td>\n",
       "    </tr>\n",
       "    <tr>\n",
       "      <th>2</th>\n",
       "      <td>8106</td>\n",
       "      <td>7561.87</td>\n",
       "    </tr>\n",
       "    <tr>\n",
       "      <th>3</th>\n",
       "      <td>10818</td>\n",
       "      <td>10239.24</td>\n",
       "    </tr>\n",
       "    <tr>\n",
       "      <th>4</th>\n",
       "      <td>12398</td>\n",
       "      <td>11398.61</td>\n",
       "    </tr>\n",
       "    <tr>\n",
       "      <th>5</th>\n",
       "      <td>7808</td>\n",
       "      <td>7673.90</td>\n",
       "    </tr>\n",
       "  </tbody>\n",
       "</table>\n",
       "</div>"
      ],
      "text/plain": [
       "                  Sales  Pred_Sales\n",
       "Date       Store                   \n",
       "2015-06-15 1       5518     5414.10\n",
       "           2       8106     7561.87\n",
       "           3      10818    10239.24\n",
       "           4      12398    11398.61\n",
       "           5       7808     7673.90"
      ]
     },
     "execution_count": 37,
     "metadata": {},
     "output_type": "execute_result"
    }
   ],
   "source": [
    "#sales vs predictions\n",
    "six_weeks_sales_df.head()"
   ]
  },
  {
   "cell_type": "code",
   "execution_count": 38,
   "id": "aad54db8",
   "metadata": {},
   "outputs": [
    {
     "data": {
      "text/plain": [
       "Sales         7808.0\n",
       "Pred_Sales    7673.9\n",
       "Name: (2015-06-15 00:00:00, 5), dtype: float64"
      ]
     },
     "execution_count": 38,
     "metadata": {},
     "output_type": "execute_result"
    }
   ],
   "source": [
    "#locating\n",
    "six_weeks_sales_df.loc[('2015-06-15',5)]"
   ]
  },
  {
   "cell_type": "code",
   "execution_count": 39,
   "id": "f770976b",
   "metadata": {},
   "outputs": [
    {
     "data": {
      "text/plain": [
       "Sales         8400.00\n",
       "Pred_Sales    8078.56\n",
       "Name: (2015-07-28 00:00:00, 56), dtype: float64"
      ]
     },
     "execution_count": 39,
     "metadata": {},
     "output_type": "execute_result"
    }
   ],
   "source": [
    "#locating\n",
    "six_weeks_sales_df.loc[('2015-07-28',56)]"
   ]
  },
  {
   "cell_type": "markdown",
   "id": "eb46d04c",
   "metadata": {},
   "source": [
    "### Conclusion and Recommendations\n"
   ]
  },
  {
   "cell_type": "markdown",
   "id": "4c43d70c",
   "metadata": {},
   "source": [
    "**Conclusion**\n",
    "\n",
    "Businesses use sales forecasts to determine what revenue they will be generating in a particular timespan to empower themselves with powerful and strategic business plans. Important decisions such as budgets, hiring, incentives, goals, acquisitions and various other growth plans are affected by the revenue the company is going to make in the coming months and for these plans to be as effective as they are planned to be it is important for these forecasts to also be as good.\n",
    "\n",
    "The work here forecasts the sales of the various Rossmann stores across Europe for the recent six weeks and compares the results from the models developed with the actual sales values.\n",
    "\n",
    "Some important conclusions drawn from the analysis are as follows:\n",
    "\n",
    "there were more sales on Monday, probably because shops generally remain closed on Sundays which had the lowest sales in a week. This validates the hypothesis about this feature.\n",
    "The positive effect of promotion on Customers and Sales is observable.\n",
    "Most stores have competition distance within the range of 0 to 10 kms and had more sales than stores far away probably indicating competition in busy locations vs remote locations.\n",
    "Store type B though being few in number had the highest sales average. The reasons include all three kinds of assortments specially assortment level b which is only available at type b stores and being open on sundays as well.\n",
    "The outliers in the dataset showed justifiable behaviour. The outliers were either of store type b or had promotion going on which increased sales.\n",
    "Random Forest Tuned Model gave the best results and only 0.021% improvement was seen from the basic random forest model which indicates that all the trends and patterns that could be captured by these models without overfitting were done and maximum level of performance achievable by the model was achieved."
   ]
  },
  {
   "cell_type": "markdown",
   "id": "dba0ae56",
   "metadata": {},
   "source": [
    "### **Recommendations**\n",
    "\n",
    "More stores should be encouraged for promotion.\n",
    "Store type B should be increased in number.\n",
    "There's a seasonality involved, hence the stores should be encouraged to promote and take advantage of the holidays."
   ]
  },
  {
   "cell_type": "code",
   "execution_count": null,
   "id": "5874a677",
   "metadata": {},
   "outputs": [],
   "source": []
  }
 ],
 "metadata": {
  "kernelspec": {
   "display_name": "Python 3 (ipykernel)",
   "language": "python",
   "name": "python3"
  },
  "language_info": {
   "codemirror_mode": {
    "name": "ipython",
    "version": 3
   },
   "file_extension": ".py",
   "mimetype": "text/x-python",
   "name": "python",
   "nbconvert_exporter": "python",
   "pygments_lexer": "ipython3",
   "version": "3.9.7"
  }
 },
 "nbformat": 4,
 "nbformat_minor": 5
}
